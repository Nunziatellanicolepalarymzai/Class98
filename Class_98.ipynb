{
  "nbformat": 4,
  "nbformat_minor": 0,
  "metadata": {
    "colab": {
      "name": "Class 98.ipynb",
      "provenance": [],
      "authorship_tag": "ABX9TyO3PDZzdPF5/U8SSDGvEZZe",
      "include_colab_link": true
    },
    "kernelspec": {
      "name": "python3",
      "display_name": "Python 3"
    },
    "language_info": {
      "name": "python"
    }
  },
  "cells": [
    {
      "cell_type": "markdown",
      "metadata": {
        "id": "view-in-github",
        "colab_type": "text"
      },
      "source": [
        "<a href=\"https://colab.research.google.com/github/Nunziatellanicolepalarymzai/Class98/blob/main/Class_98.ipynb\" target=\"_parent\"><img src=\"https://colab.research.google.com/assets/colab-badge.svg\" alt=\"Open In Colab\"/></a>"
      ]
    },
    {
      "cell_type": "code",
      "metadata": {
        "id": "9umjnT6WVxV9"
      },
      "source": [
        ""
      ],
      "execution_count": null,
      "outputs": []
    },
    {
      "cell_type": "markdown",
      "metadata": {
        "id": "MCjZWRx2V7d9"
      },
      "source": [
        "function is a block of code which runs only when it is called\n",
        "you can pass data known as parameters into a function. A functio can return data as a result\n"
      ]
    },
    {
      "cell_type": "code",
      "metadata": {
        "id": "-ZBoWXw3WXCO"
      },
      "source": [
        "def my_function():\n",
        "  print(\"hello,from a function \")\n",
        "\n",
        "my_function()"
      ],
      "execution_count": null,
      "outputs": []
    },
    {
      "cell_type": "code",
      "metadata": {
        "colab": {
          "base_uri": "https://localhost:8080/"
        },
        "id": "w5r5lBbeW-qE",
        "outputId": "5c8fee4c-381f-4512-f800-d271d749a574"
      },
      "source": [
        "def my_function(fname):\n",
        "  print(\"hello  \",fname)\n",
        "\n",
        "my_function(\"nunzia\")\n",
        "my_function(\"marry\")"
      ],
      "execution_count": null,
      "outputs": [
        {
          "output_type": "stream",
          "name": "stdout",
          "text": [
            "hello   nunzia\n",
            "hello   marry\n"
          ]
        }
      ]
    },
    {
      "cell_type": "code",
      "metadata": {
        "colab": {
          "base_uri": "https://localhost:8080/"
        },
        "id": "pYvxksVbXksR",
        "outputId": "70fc4215-1d39-458a-ce47-7b0434edf1f5"
      },
      "source": [
        "#writea progame which takes file path from the user and prints the number of words in the file\n",
        "def countWordsfromfile():\n",
        "  filename=input(\"enter the file name\")\n",
        "  numberofWords=0\n",
        "  file=open(filename,'r')\n",
        "  for line in file :\n",
        "    words=line.split()\n",
        "    numberofWords=numberofWords+len(words)\n",
        "  \n",
        "\n",
        "  print(\"number of Words\",numberofWords)\n",
        "\n",
        "\n",
        "countWordsfromfile()"
      ],
      "execution_count": null,
      "outputs": [
        {
          "output_type": "stream",
          "name": "stdout",
          "text": [
            "enter the file namefile.txt\n",
            "number of Words 5\n"
          ]
        }
      ]
    }
  ]
}